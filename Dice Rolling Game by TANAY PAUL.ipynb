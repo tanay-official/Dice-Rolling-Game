{
 "cells": [
  {
   "cell_type": "code",
   "execution_count": null,
   "id": "ea6b9dd1",
   "metadata": {},
   "outputs": [],
   "source": [
    "#Dice Rolling Game by TANAY PAUL\n",
    "\n",
    "import random\n",
    "\n",
    "while True:\n",
    "    \n",
    "    user_input = input(\"Roll the Dise? y/n: \").lower()\n",
    "    \n",
    "    if user_input == \"y\":\n",
    "        a = random.randint(1, 6)\n",
    "        b = random.randint(1, 6)\n",
    "        print(f\"({a}, {b})\")\n",
    "        \n",
    "    elif user_input == \"n\":\n",
    "        print(\"Thanks For Playing. See you Again!\")\n",
    "        print(\"- Devolved by TANAY PAUL\")\n",
    "        break\n",
    "        \n",
    "    else:\n",
    "        print(\"Invalid! Please Enter y/n only\")\n",
    "    "
   ]
  }
 ],
 "metadata": {
  "kernelspec": {
   "display_name": "Python 3",
   "language": "python",
   "name": "python3"
  },
  "language_info": {
   "codemirror_mode": {
    "name": "ipython",
    "version": 3
   },
   "file_extension": ".py",
   "mimetype": "text/x-python",
   "name": "python",
   "nbconvert_exporter": "python",
   "pygments_lexer": "ipython3",
   "version": "3.9.4"
  }
 },
 "nbformat": 4,
 "nbformat_minor": 5
}
